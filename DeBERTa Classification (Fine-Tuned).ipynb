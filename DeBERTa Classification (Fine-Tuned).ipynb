{
 "cells": [
  {
   "cell_type": "code",
   "execution_count": 1,
   "id": "5a5097af",
   "metadata": {},
   "outputs": [
    {
     "name": "stderr",
     "output_type": "stream",
     "text": [
      "C:\\Users\\Dancouga\\anaconda3\\envs\\SINA\\lib\\site-packages\\tqdm\\auto.py:21: TqdmWarning: IProgress not found. Please update jupyter and ipywidgets. See https://ipywidgets.readthedocs.io/en/stable/user_install.html\n",
      "  from .autonotebook import tqdm as notebook_tqdm\n"
     ]
    }
   ],
   "source": [
    "import torch\n",
    "from torch.utils.data import Dataset, DataLoader\n",
    "from transformers import BertTokenizer, BertModel\n",
    "import torch.nn as nn\n",
    "import torch.optim as optim\n",
    "from sklearn.model_selection import train_test_split\n",
    "from sklearn.preprocessing import LabelEncoder\n",
    "from sklearn.metrics import accuracy_score, classification_report, confusion_matrix\n",
    "from sklearn.utils.class_weight import compute_class_weight\n",
    "import pandas as pd\n",
    "import matplotlib.pyplot as plt\n",
    "import seaborn as sns\n",
    "import numpy as np\n",
    "from collections import Counter\n",
    "from torch.optim.lr_scheduler import StepLR\n",
    "from torch.optim.lr_scheduler import ReduceLROnPlateau\n",
    "from transformers import DebertaTokenizer, DebertaModel"
   ]
  },
  {
   "cell_type": "code",
   "execution_count": 3,
   "id": "9bcb10a3",
   "metadata": {},
   "outputs": [],
   "source": [
    "# Load the data from Excel file\n",
    "file_path = \"student_questions_for_labeling (Final).xlsx\"\n",
    "df = pd.read_excel(file_path)"
   ]
  },
  {
   "cell_type": "code",
   "execution_count": 4,
   "id": "855649c5",
   "metadata": {},
   "outputs": [],
   "source": [
    "# Prepare the data (questions and labels)\n",
    "questions = df['Question'].tolist()\n",
    "labels = df['Label'].tolist()"
   ]
  },
  {
   "cell_type": "code",
   "execution_count": 5,
   "id": "d6166c89",
   "metadata": {},
   "outputs": [
    {
     "name": "stdout",
     "output_type": "stream",
     "text": [
      "Label counts in the original dataset: Counter({1: 196, 2: 193, 3: 192})\n"
     ]
    }
   ],
   "source": [
    "# Check the count of each label in the loaded dataset\n",
    "label_counts = Counter(labels)\n",
    "print(\"Label counts in the original dataset:\", label_counts)"
   ]
  },
  {
   "cell_type": "code",
   "execution_count": 6,
   "id": "a043058c",
   "metadata": {},
   "outputs": [],
   "source": [
    "# Encode the labels\n",
    "label_encoder = LabelEncoder()\n",
    "encoded_labels = label_encoder.fit_transform(labels)\n",
    "\n",
    "# Calculate class weights for imbalanced data\n",
    "class_weights = compute_class_weight(\n",
    "    class_weight='balanced', \n",
    "    classes=np.unique(encoded_labels), \n",
    "    y=encoded_labels\n",
    ")\n",
    "class_weights = torch.tensor(class_weights, dtype=torch.float)"
   ]
  },
  {
   "cell_type": "code",
   "execution_count": 7,
   "id": "a01e9646",
   "metadata": {},
   "outputs": [],
   "source": [
    "# Split the data into training, validation, and test sets\n",
    "train_texts, temp_texts, train_labels, temp_labels = train_test_split(questions, encoded_labels, test_size=0.3, random_state=42)\n",
    "val_texts, test_texts, val_labels, test_labels = train_test_split(temp_texts, temp_labels, test_size=0.5, random_state=42)"
   ]
  },
  {
   "cell_type": "code",
   "execution_count": 8,
   "id": "c1d7dcb2",
   "metadata": {},
   "outputs": [],
   "source": [
    "# Define the tokenizer (using DeBERTa)\n",
    "tokenizer = DebertaTokenizer.from_pretrained('microsoft/deberta-base')"
   ]
  },
  {
   "cell_type": "code",
   "execution_count": 9,
   "id": "b6af5c9a",
   "metadata": {},
   "outputs": [],
   "source": [
    "# Create a Dataset class\n",
    "class QuestionDataset(Dataset):\n",
    "    def __init__(self, texts, labels, tokenizer, max_len):\n",
    "        self.texts = texts\n",
    "        self.labels = labels\n",
    "        self.tokenizer = tokenizer\n",
    "        self.max_len = max_len\n",
    "\n",
    "    def __len__(self):\n",
    "        return len(self.texts)\n",
    "\n",
    "    def __getitem__(self, idx):\n",
    "        text = self.texts[idx]\n",
    "        label = self.labels[idx]\n",
    "        inputs = self.tokenizer.encode_plus(\n",
    "            text,\n",
    "            add_special_tokens=True,\n",
    "            max_length=self.max_len,\n",
    "            padding='max_length',\n",
    "            truncation=True,\n",
    "            return_tensors='pt'\n",
    "        )\n",
    "        return {\n",
    "            'input_ids': inputs['input_ids'].flatten(),\n",
    "            'attention_mask': inputs['attention_mask'].flatten(),\n",
    "            'label': torch.tensor(label, dtype=torch.long)\n",
    "        }\n",
    "\n",
    "# DataLoader for training, validation, and testing\n",
    "MAX_LEN = 128\n",
    "BATCH_SIZE = 8\n",
    "\n",
    "train_dataset = QuestionDataset(train_texts, train_labels, tokenizer, MAX_LEN)\n",
    "val_dataset = QuestionDataset(val_texts, val_labels, tokenizer, MAX_LEN)\n",
    "test_dataset = QuestionDataset(test_texts, test_labels, tokenizer, MAX_LEN)\n",
    "\n",
    "train_loader = DataLoader(train_dataset, batch_size=BATCH_SIZE, shuffle=True)\n",
    "val_loader = DataLoader(val_dataset, batch_size=BATCH_SIZE)\n",
    "test_loader = DataLoader(test_dataset, batch_size=BATCH_SIZE)"
   ]
  },
  {
   "cell_type": "code",
   "execution_count": 10,
   "id": "71e049a9",
   "metadata": {},
   "outputs": [],
   "source": [
    "# Define the DeBERTa-based model\n",
    "class QuestionClassifier(nn.Module):\n",
    "    def __init__(self, n_classes):\n",
    "        super(QuestionClassifier, self).__init__()\n",
    "        self.deberta = DebertaModel.from_pretrained('microsoft/deberta-base')\n",
    "        self.drop = nn.Dropout(p=0.5)\n",
    "        self.out = nn.Linear(self.deberta.config.hidden_size, n_classes)\n",
    "\n",
    "        for param in self.deberta.parameters():\n",
    "            param.requires_grad = False\n",
    "        for param in self.deberta.encoder.layer[-3:].parameters():\n",
    "            param.requires_grad = True\n",
    "\n",
    "    def forward(self, input_ids, attention_mask):\n",
    "        outputs = self.deberta(input_ids=input_ids, attention_mask=attention_mask)\n",
    "        # Use the first token's hidden state as a pooled output\n",
    "        pooled_output = outputs.last_hidden_state[:, 0, :]  # [batch_size, hidden_size]\n",
    "        output = self.drop(pooled_output)\n",
    "        return self.out(output)"
   ]
  },
  {
   "cell_type": "code",
   "execution_count": 11,
   "id": "24e22b95",
   "metadata": {},
   "outputs": [],
   "source": [
    "# Set up the model, loss function, and optimizer\n",
    "device = torch.device(\"cuda\" if torch.cuda.is_available() else \"cpu\")\n",
    "model = QuestionClassifier(n_classes=len(label_encoder.classes_)).to(device)\n",
    "loss_fn = nn.CrossEntropyLoss(weight=class_weights.to(device))\n",
    "optimizer = optim.AdamW(model.parameters(), lr=2e-5, weight_decay=0.01)\n",
    "#scheduler = StepLR(optimizer, step_size=10, gamma=0.1)\n",
    "scheduler = ReduceLROnPlateau(optimizer, mode='min', factor=0.1, patience=5, verbose=True)\n",
    "\n",
    "# Training and evaluation functions\n",
    "def train_epoch(model, data_loader, loss_fn, optimizer, device):\n",
    "    model.train()\n",
    "    correct_predictions = 0\n",
    "    losses = 0\n",
    "    \n",
    "    for data in data_loader:\n",
    "        input_ids = data['input_ids'].to(device)\n",
    "        attention_mask = data['attention_mask'].to(device)\n",
    "        labels = data['label'].to(device)\n",
    "        \n",
    "        optimizer.zero_grad()\n",
    "        \n",
    "        outputs = model(input_ids=input_ids, attention_mask=attention_mask)\n",
    "        loss = loss_fn(outputs, labels)\n",
    "        _, preds = torch.max(outputs, dim=1)\n",
    "        \n",
    "        correct_predictions += torch.sum(preds == labels)\n",
    "        losses += loss.item()\n",
    "        \n",
    "        loss.backward()\n",
    "        optimizer.step()\n",
    "    \n",
    "    return correct_predictions.double() / len(data_loader.dataset), losses / len(data_loader)\n",
    "\n",
    "def eval_model(model, data_loader, loss_fn, device):\n",
    "    model.eval()\n",
    "    correct_predictions = 0\n",
    "    losses = 0\n",
    "    all_labels = []\n",
    "    all_preds = []\n",
    "    \n",
    "    with torch.no_grad():\n",
    "        for data in data_loader:\n",
    "            input_ids = data['input_ids'].to(device)\n",
    "            attention_mask = data['attention_mask'].to(device)\n",
    "            labels = data['label'].to(device)\n",
    "            \n",
    "            outputs = model(input_ids=input_ids, attention_mask=attention_mask)\n",
    "            loss = loss_fn(outputs, labels)\n",
    "            _, preds = torch.max(outputs, dim=1)\n",
    "            \n",
    "            correct_predictions += torch.sum(preds == labels)\n",
    "            losses += loss.item()\n",
    "            \n",
    "            all_labels.extend(labels.cpu().numpy())\n",
    "            all_preds.extend(preds.cpu().numpy())\n",
    "    \n",
    "    return correct_predictions.double() / len(data_loader.dataset), losses / len(data_loader), all_labels, all_preds"
   ]
  },
  {
   "cell_type": "code",
   "execution_count": 12,
   "id": "633ceaec",
   "metadata": {
    "scrolled": false
   },
   "outputs": [
    {
     "name": "stdout",
     "output_type": "stream",
     "text": [
      "Epoch 1/100\n",
      "Train Loss: 1.0895, Train Accuracy: 0.3719\n",
      "Val Loss: 1.0011, Val Accuracy: 0.5402\n",
      "Epoch 2/100\n",
      "Train Loss: 0.7583, Train Accuracy: 0.6453\n",
      "Val Loss: 0.7474, Val Accuracy: 0.6552\n",
      "Epoch 3/100\n",
      "Train Loss: 0.6093, Train Accuracy: 0.7118\n",
      "Val Loss: 0.7019, Val Accuracy: 0.6552\n",
      "Epoch 4/100\n",
      "Train Loss: 0.4774, Train Accuracy: 0.8054\n",
      "Val Loss: 0.6885, Val Accuracy: 0.7011\n",
      "Epoch 5/100\n",
      "Train Loss: 0.3587, Train Accuracy: 0.8498\n",
      "Val Loss: 0.7021, Val Accuracy: 0.6897\n",
      "Epoch 6/100\n",
      "Train Loss: 0.2748, Train Accuracy: 0.8744\n",
      "Val Loss: 0.7581, Val Accuracy: 0.7241\n",
      "Epoch 7/100\n",
      "Train Loss: 0.2313, Train Accuracy: 0.9138\n",
      "Val Loss: 0.7105, Val Accuracy: 0.7356\n",
      "Epoch 8/100\n",
      "Train Loss: 0.1712, Train Accuracy: 0.9384\n",
      "Val Loss: 0.8012, Val Accuracy: 0.7356\n",
      "Epoch 9/100\n",
      "Train Loss: 0.1223, Train Accuracy: 0.9581\n",
      "Val Loss: 0.9053, Val Accuracy: 0.7126\n",
      "Epoch 10/100\n",
      "Train Loss: 0.0933, Train Accuracy: 0.9778\n",
      "Val Loss: 0.8598, Val Accuracy: 0.7241\n",
      "Epoch 00010: reducing learning rate of group 0 to 2.0000e-06.\n",
      "Epoch 11/100\n",
      "Train Loss: 0.0785, Train Accuracy: 0.9729\n",
      "Val Loss: 0.8135, Val Accuracy: 0.7586\n",
      "Epoch 12/100\n",
      "Train Loss: 0.0446, Train Accuracy: 0.9951\n",
      "Val Loss: 0.8265, Val Accuracy: 0.7701\n",
      "Epoch 13/100\n",
      "Train Loss: 0.0474, Train Accuracy: 0.9852\n",
      "Val Loss: 0.8267, Val Accuracy: 0.7701\n",
      "Epoch 14/100\n",
      "Train Loss: 0.0443, Train Accuracy: 0.9926\n",
      "Val Loss: 0.8364, Val Accuracy: 0.7586\n",
      "Epoch 15/100\n",
      "Train Loss: 0.0382, Train Accuracy: 0.9951\n",
      "Val Loss: 0.8413, Val Accuracy: 0.7471\n",
      "Epoch 16/100\n",
      "Train Loss: 0.0494, Train Accuracy: 0.9926\n",
      "Val Loss: 0.8426, Val Accuracy: 0.7586\n",
      "Epoch 00016: reducing learning rate of group 0 to 2.0000e-07.\n",
      "Epoch 17/100\n",
      "Train Loss: 0.0372, Train Accuracy: 0.9901\n",
      "Val Loss: 0.8439, Val Accuracy: 0.7586\n",
      "Epoch 18/100\n",
      "Train Loss: 0.0395, Train Accuracy: 0.9926\n",
      "Val Loss: 0.8456, Val Accuracy: 0.7701\n",
      "Epoch 19/100\n",
      "Train Loss: 0.0407, Train Accuracy: 0.9926\n",
      "Val Loss: 0.8487, Val Accuracy: 0.7586\n",
      "Epoch 20/100\n",
      "Train Loss: 0.0407, Train Accuracy: 0.9926\n",
      "Val Loss: 0.8489, Val Accuracy: 0.7701\n",
      "Epoch 21/100\n",
      "Train Loss: 0.0516, Train Accuracy: 0.9901\n",
      "Val Loss: 0.8479, Val Accuracy: 0.7586\n",
      "Epoch 22/100\n",
      "Train Loss: 0.0427, Train Accuracy: 0.9926\n",
      "Val Loss: 0.8505, Val Accuracy: 0.7471\n",
      "Epoch 00022: reducing learning rate of group 0 to 2.0000e-08.\n",
      "Epoch 23/100\n",
      "Train Loss: 0.0404, Train Accuracy: 0.9951\n",
      "Val Loss: 0.8504, Val Accuracy: 0.7471\n",
      "Epoch 24/100\n",
      "Train Loss: 0.0345, Train Accuracy: 0.9926\n",
      "Val Loss: 0.8506, Val Accuracy: 0.7471\n",
      "Early stopping triggered\n"
     ]
    }
   ],
   "source": [
    "# Training loop with validation\n",
    "epochs = 100\n",
    "train_losses = []\n",
    "train_accuracies = []\n",
    "val_losses = []\n",
    "val_accuracies = []\n",
    "\n",
    "\n",
    "early_stop_count = 0\n",
    "patience = 20\n",
    "\n",
    "for epoch in range(epochs):\n",
    "    train_acc, train_loss = train_epoch(model, train_loader, loss_fn, optimizer, device)\n",
    "    val_acc, val_loss, _, _ = eval_model(model, val_loader, loss_fn, device)\n",
    "    \n",
    "    train_losses.append(train_loss)\n",
    "    train_accuracies.append(train_acc.item())\n",
    "    val_losses.append(val_loss)\n",
    "    val_accuracies.append(val_acc.item())\n",
    "    \n",
    "    print(f'Epoch {epoch + 1}/{epochs}')\n",
    "    print(f'Train Loss: {train_loss:.4f}, Train Accuracy: {train_acc:.4f}')\n",
    "    print(f'Val Loss: {val_loss:.4f}, Val Accuracy: {val_acc:.4f}')\n",
    "    \n",
    "    # Scheduler step\n",
    "    scheduler.step(val_loss)\n",
    "\n",
    "    # Early Stopping\n",
    "    if len(val_losses) > 1 and val_loss > min(val_losses):\n",
    "        early_stop_count += 1\n",
    "    else:\n",
    "        early_stop_count = 0\n",
    "\n",
    "    if early_stop_count >= patience:\n",
    "        print(\"Early stopping triggered\")\n",
    "        break"
   ]
  },
  {
   "cell_type": "code",
   "execution_count": 13,
   "id": "da0886f1",
   "metadata": {},
   "outputs": [
    {
     "data": {
      "image/png": "[encoded data removed]",
      "text/plain": [
       "<Figure size 1200x600 with 2 Axes>"
      ]
     },
     "metadata": {},
     "output_type": "display_data"
    }
   ],
   "source": [
    "# Visualize training and validation loss and accuracy\n",
    "plt.figure(figsize=(12, 6))\n",
    "\n",
    "# Plot training and validation loss\n",
    "plt.subplot(1, 2, 1)\n",
    "plt.plot(range(1, len(train_losses) + 1), train_losses, marker='o', color='b', label='Training Loss')\n",
    "plt.plot(range(1, len(val_losses) + 1), val_losses, marker='o', color='r', label='Validation Loss')\n",
    "plt.xlabel('Epoch')\n",
    "plt.ylabel('Loss')\n",
    "plt.title('Training and Validation Loss')\n",
    "plt.legend()\n",
    "\n",
    "# Plot training and validation accuracy\n",
    "plt.subplot(1, 2, 2)\n",
    "plt.plot(range(1, len(train_accuracies) + 1), train_accuracies, marker='o', color='b', label='Training Accuracy')\n",
    "plt.plot(range(1, len(val_accuracies) + 1), val_accuracies, marker='o', color='r', label='Validation Accuracy')\n",
    "plt.xlabel('Epoch')\n",
    "plt.ylabel('Accuracy')\n",
    "plt.title('Training and Validation Accuracy')\n",
    "plt.legend()\n",
    "\n",
    "plt.tight_layout()\n",
    "plt.show()"
   ]
  },
  {
   "cell_type": "code",
   "execution_count": 14,
   "id": "29743f09",
   "metadata": {
    "scrolled": false
   },
   "outputs": [
    {
     "name": "stdout",
     "output_type": "stream",
     "text": [
      "Test Loss: 0.3239, Test Accuracy: 0.8636\n"
     ]
    },
    {
     "data": {
      "image/png": "[encoded data removed]",
      "text/plain": [
       "<Figure size 800x600 with 2 Axes>"
      ]
     },
     "metadata": {},
     "output_type": "display_data"
    }
   ],
   "source": [
    "# Evaluate on the test set and calculate additional metrics\n",
    "test_acc, test_loss, test_labels, test_preds = eval_model(model, test_loader, loss_fn, device)\n",
    "print(f'Test Loss: {test_loss:.4f}, Test Accuracy: {test_acc:.4f}')\n",
    "\n",
    "# Confusion Matrix for test set\n",
    "conf_matrix = confusion_matrix(test_labels, test_preds)\n",
    "plt.figure(figsize=(8, 6))\n",
    "sns.heatmap(conf_matrix, annot=True, fmt=\"d\", cmap=\"Blues\", xticklabels=label_encoder.classes_, yticklabels=label_encoder.classes_)\n",
    "plt.title(\"Confusion Matrix for Test Set\")\n",
    "plt.xlabel(\"Predicted\")\n",
    "plt.ylabel(\"True\")\n",
    "plt.show()"
   ]
  },
  {
   "cell_type": "code",
   "execution_count": 15,
   "id": "147513bd",
   "metadata": {},
   "outputs": [
    {
     "name": "stdout",
     "output_type": "stream",
     "text": [
      "Classification Report:\n",
      "\n",
      "Label: 1\n",
      "  Precision: 0.9667\n",
      "  Recall: 0.8529\n",
      "  F1 Score: 0.9062\n",
      "  Support: 34.0\n",
      "\n",
      "Label: 2\n",
      "  Precision: 0.7879\n",
      "  Recall: 0.8966\n",
      "  F1 Score: 0.8387\n",
      "  Support: 29.0\n",
      "\n",
      "Label: 3\n",
      "  Precision: 0.8400\n",
      "  Recall: 0.8400\n",
      "  F1 Score: 0.8400\n",
      "  Support: 25.0\n",
      "\n",
      "Overall Performance:\n",
      "  Average Precision: 0.8718\n",
      "  Average Recall: 0.8636\n",
      "  Average F1 Score: 0.8652\n",
      "  Accuracy: 0.8636\n"
     ]
    },
    {
     "name": "stderr",
     "output_type": "stream",
     "text": [
      "C:\\Users\\Dancouga\\AppData\\Local\\Temp\\ipykernel_38728\\2033045417.py:7: FutureWarning: elementwise comparison failed; returning scalar instead, but in the future will perform elementwise comparison\n",
      "  if label in label_encoder.classes_:\n"
     ]
    }
   ],
   "source": [
    "# Classification Report for detailed performance metrics\n",
    "print(\"Classification Report:\")\n",
    "report = classification_report(test_labels, test_preds, target_names=label_encoder.classes_, output_dict=True)\n",
    "\n",
    "# Display Precision, Recall, and F1 Score for each class\n",
    "for label, metrics in report.items():\n",
    "    if label in label_encoder.classes_:\n",
    "        print(f\"\\nLabel: {label}\")\n",
    "        print(f\"  Precision: {metrics['precision']:.4f}\")\n",
    "        print(f\"  Recall: {metrics['recall']:.4f}\")\n",
    "        print(f\"  F1 Score: {metrics['f1-score']:.4f}\")\n",
    "        print(f\"  Support: {metrics['support']}\")\n",
    "\n",
    "# Display overall averages\n",
    "print(\"\\nOverall Performance:\")\n",
    "print(f\"  Average Precision: {report['weighted avg']['precision']:.4f}\")\n",
    "print(f\"  Average Recall: {report['weighted avg']['recall']:.4f}\")\n",
    "print(f\"  Average F1 Score: {report['weighted avg']['f1-score']:.4f}\")\n",
    "print(f\"  Accuracy: {report['accuracy']:.4f}\")"
   ]
  },
  {
   "cell_type": "code",
   "execution_count": 16,
   "id": "b976ba53",
   "metadata": {},
   "outputs": [],
   "source": [
    "# Function to predict the label of a new question\n",
    "def predict_question(question, model, tokenizer, max_len, device):\n",
    "    model.eval()\n",
    "    inputs = tokenizer.encode_plus(\n",
    "        question,\n",
    "        add_special_tokens=True,\n",
    "        max_length=max_len,\n",
    "        padding='max_length',\n",
    "        truncation=True,\n",
    "        return_tensors='pt'\n",
    "    )\n",
    "    input_ids = inputs['input_ids'].to(device)\n",
    "    attention_mask = inputs['attention_mask'].to(device)\n",
    "\n",
    "    with torch.no_grad():\n",
    "        outputs = model(input_ids=input_ids, attention_mask=attention_mask)\n",
    "        _, prediction = torch.max(outputs, dim=1)\n",
    "    \n",
    "    return label_encoder.inverse_transform([prediction.cpu().item()])[0]\n"
   ]
  },
  {
   "cell_type": "code",
   "execution_count": 17,
   "id": "3b04f626",
   "metadata": {
    "scrolled": false
   },
   "outputs": [
    {
     "name": "stdout",
     "output_type": "stream",
     "text": [
      "Predicted Labels for Random Questions:\n",
      "1. Question: 'I think it would be good to combine items 3 and 4 since they fall under the same visualization category.'\n",
      "   Original Label: 1, Predicted Label: 1 (Correct)\n",
      "\n",
      "2. Question: 'Could we reinterpret the diagram to reflect motivational development stages for learners, where AI takes over the instructor's responsibilities?'\n",
      "   Original Label: 3, Predicted Label: 3 (Correct)\n",
      "\n",
      "3. Question: 'How can we leverage AI to reduce the workload for teachers while maintaining quality teaching outcomes?'\n",
      "   Original Label: 3, Predicted Label: 2 (Incorrect)\n",
      "\n",
      "4. Question: 'Could you explain predicting bounding boxes?'\n",
      "   Original Label: 1, Predicted Label: 1 (Correct)\n",
      "\n",
      "5. Question: 'How can I change the code to use an average?'\n",
      "   Original Label: 1, Predicted Label: 1 (Correct)\n",
      "\n",
      "6. Question: 'If I use a baseline model, what code should I use?'\n",
      "   Original Label: 2, Predicted Label: 2 (Correct)\n",
      "\n",
      "7. Question: 'How can I handle questions generated by students using BERT-based NLP?'\n",
      "   Original Label: 2, Predicted Label: 2 (Correct)\n",
      "\n",
      "8. Question: 'Could you simply explain the concept of Exponentially Weighted Averages?'\n",
      "   Original Label: 1, Predicted Label: 1 (Correct)\n",
      "\n",
      "9. Question: 'How might AI contribute to fostering critical discussions in diverse student groups?'\n",
      "   Original Label: 3, Predicted Label: 3 (Correct)\n",
      "\n",
      "10. Question: 'In what ways could AI enhance the effectiveness of e-learning platforms?'\n",
      "   Original Label: 2, Predicted Label: 2 (Correct)\n",
      "\n"
     ]
    }
   ],
   "source": [
    "# Import random for selecting random questions\n",
    "import random\n",
    "\n",
    "# Encode the labels of the augmented dataset\n",
    "encoded_labels_augmented = label_encoder.transform(labels)\n",
    "\n",
    "# Create a mapping of questions to their original labels\n",
    "question_to_label = dict(zip(questions, encoded_labels))\n",
    "\n",
    "# Select 10 random questions from the dataset for prediction\n",
    "random_questions = random.sample(questions, 10)\n",
    "\n",
    "# Predict the label for each randomly selected question and print the result\n",
    "print(\"Predicted Labels for Random Questions:\")\n",
    "for i, question in enumerate(random_questions, start=1):\n",
    "    predicted_label = predict_question(question, model, tokenizer, MAX_LEN, device)\n",
    "    original_label = label_encoder.inverse_transform([question_to_label[question]])[0]\n",
    "    \n",
    "    # Check if the prediction is correct\n",
    "    is_correct = \"(Correct)\" if predicted_label == original_label else \"(Incorrect)\"\n",
    "    \n",
    "    # Print the result\n",
    "    print(f\"{i}. Question: '{question}'\")\n",
    "    print(f\"   Original Label: {original_label}, Predicted Label: {predicted_label} {is_correct}\\n\")"
   ]
  },
  {
   "cell_type": "code",
   "execution_count": 18,
   "id": "68f6d78f",
   "metadata": {},
   "outputs": [
    {
     "name": "stdout",
     "output_type": "stream",
     "text": [
      "Predicted labels and comparison saved to predicted_labels_comparison (DeBERTa).xlsx\n"
     ]
    }
   ],
   "source": [
    "# Create a new DataFrame with the original questions, original labels, predicted labels, and comparison\n",
    "predictions_data = {\n",
    "    'Question': questions,\n",
    "    'Original Label': labels,\n",
    "    'Predicted Label': [predict_question(q, model, tokenizer, MAX_LEN, device) for q in questions],\n",
    "}\n",
    "\n",
    "# Create a DataFrame from the data\n",
    "predictions_df = pd.DataFrame(predictions_data)\n",
    "\n",
    "# Add a column for match/mismatch between original and predicted labels\n",
    "predictions_df['Match'] = predictions_df.apply(lambda row: 'Match' if row['Original Label'] == row['Predicted Label'] else 'Mismatch', axis=1)\n",
    "\n",
    "# Save to a new Excel file\n",
    "output_file_path = \"predicted_labels_comparison (DeBERTa).xlsx\"\n",
    "predictions_df.to_excel(output_file_path, index=False)\n",
    "\n",
    "print(f\"Predicted labels and comparison saved to {output_file_path}\")"
   ]
  }
 ],
 "metadata": {
  "kernelspec": {
   "display_name": "Python (SINA)",
   "language": "python",
   "name": "myenv"
  },
  "language_info": {
   "codemirror_mode": {
    "name": "ipython",
    "version": 3
   },
   "file_extension": ".py",
   "mimetype": "text/x-python",
   "name": "python",
   "nbconvert_exporter": "python",
   "pygments_lexer": "ipython3",
   "version": "3.8.19"
  }
 },
 "nbformat": 4,
 "nbformat_minor": 5
}
